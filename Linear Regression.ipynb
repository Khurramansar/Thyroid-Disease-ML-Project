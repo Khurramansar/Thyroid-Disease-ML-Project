{
 "cells": [
  {
   "cell_type": "code",
   "execution_count": 1,
   "id": "808ec10d-9b71-4bfd-b158-883460e8ef24",
   "metadata": {},
   "outputs": [],
   "source": [
    "import numpy as np\n",
    "import pandas as pd\n",
    "from sklearn.model_selection import train_test_split\n",
    "from sklearn.preprocessing import StandardScaler, LabelEncoder\n",
    "from sklearn.impute import SimpleImputer\n",
    "from sklearn.feature_selection import SelectKBest, f_classif"
   ]
  },
  {
   "cell_type": "code",
   "execution_count": 2,
   "id": "4c5b9790-bea6-4e98-89dd-365bc1b33a18",
   "metadata": {},
   "outputs": [],
   "source": [
    "# Load the data\n",
    "df = pd.read_csv('Thyroid Disease.csv')"
   ]
  },
  {
   "cell_type": "code",
   "execution_count": 3,
   "id": "9eabdb64-6607-4242-aa66-aca87a54682a",
   "metadata": {},
   "outputs": [],
   "source": [
    "# Data Cleaning\n",
    "# Handling missing values\n",
    "imputer = SimpleImputer(strategy='mean')\n",
    "# Encoding categorical variables\n",
    "label_encoder = LabelEncoder()"
   ]
  },
  {
   "cell_type": "code",
   "execution_count": 4,
   "id": "856d2565-a70e-4f71-b239-78a20a0d0eef",
   "metadata": {},
   "outputs": [],
   "source": [
    "# Handle non-numeric data\n",
    "for column in df.columns:\n",
    "    if df[column].dtype == 'object':\n",
    "        df[column] = label_encoder.fit_transform(df[column].astype(str))\n",
    "\n",
    "df_cleaned = imputer.fit_transform(df)"
   ]
  },
  {
   "cell_type": "code",
   "execution_count": 5,
   "id": "dd13f8ea-e24c-4ce4-8517-9d00d9fbd6bb",
   "metadata": {},
   "outputs": [],
   "source": [
    "# Feature Selection\n",
    "X = df_cleaned[:, :-2]  # Features, excluding Stage and Response\n",
    "y = df_cleaned[:, -1]   # Response variable\n",
    "\n",
    "selector = SelectKBest(score_func=f_classif, k=10)\n",
    "X_selected = selector.fit_transform(X, y)\n",
    "\n",
    "# Splitting Data\n",
    "X_train, X_test, y_train, y_test = train_test_split(X_selected, y, test_size=0.2, random_state=42)\n",
    "\n",
    "# Data Scaling\n",
    "scaler = StandardScaler()\n",
    "X_train_scaled = scaler.fit_transform(X_train)\n",
    "X_test_scaled = scaler.transform(X_test)"
   ]
  },
  {
   "cell_type": "code",
   "execution_count": 6,
   "id": "00491eb4-bde9-4bdd-9789-8abd92b82872",
   "metadata": {},
   "outputs": [
    {
     "name": "stdout",
     "output_type": "stream",
     "text": [
      "Linear Regression MSE: 0.083548716242891\n"
     ]
    }
   ],
   "source": [
    "# Linear Regression\n",
    "from sklearn.linear_model import LinearRegression\n",
    "from sklearn.metrics import mean_squared_error\n",
    "\n",
    "lr = LinearRegression()\n",
    "lr.fit(X_train, y_train)\n",
    "y_pred_lr = lr.predict(X_test)\n",
    "\n",
    "print(\"Linear Regression MSE:\", mean_squared_error(y_test, y_pred_lr))"
   ]
  }
 ],
 "metadata": {
  "kernelspec": {
   "display_name": "Python 3 (ipykernel)",
   "language": "python",
   "name": "python3"
  },
  "language_info": {
   "codemirror_mode": {
    "name": "ipython",
    "version": 3
   },
   "file_extension": ".py",
   "mimetype": "text/x-python",
   "name": "python",
   "nbconvert_exporter": "python",
   "pygments_lexer": "ipython3",
   "version": "3.11.7"
  }
 },
 "nbformat": 4,
 "nbformat_minor": 5
}
